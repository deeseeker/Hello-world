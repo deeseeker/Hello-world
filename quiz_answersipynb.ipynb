{
  "nbformat": 4,
  "nbformat_minor": 0,
  "metadata": {
    "colab": {
      "name": "quiz_answersipynb",
      "provenance": [],
      "authorship_tag": "ABX9TyNWCzNTt4G/aFccu++1IjMT",
      "include_colab_link": true
    },
    "kernelspec": {
      "name": "python3",
      "display_name": "Python 3"
    }
  },
  "cells": [
    {
      "cell_type": "markdown",
      "metadata": {
        "id": "view-in-github",
        "colab_type": "text"
      },
      "source": [
        "<a href=\"https://colab.research.google.com/github/deeseeker/Hello-world/blob/master/quiz_answersipynb.ipynb\" target=\"_parent\"><img src=\"https://colab.research.google.com/assets/colab-badge.svg\" alt=\"Open In Colab\"/></a>"
      ]
    },
    {
      "cell_type": "code",
      "metadata": {
        "id": "UulAaIDh1X6q",
        "colab_type": "code",
        "colab": {
          "base_uri": "https://localhost:8080/",
          "height": 71
        },
        "outputId": "c13f6069-2139-4375-c06b-f95f310e2be3"
      },
      "source": [
        "import pandas as pd \n",
        "import numpy as np\n",
        "import matplotlib.pyplot as plt \n",
        "import seaborn as sns\n",
        "import missingno\n",
        "%matplotlib inline"
      ],
      "execution_count": 1,
      "outputs": [
        {
          "output_type": "stream",
          "text": [
            "/usr/local/lib/python3.6/dist-packages/statsmodels/tools/_testing.py:19: FutureWarning: pandas.util.testing is deprecated. Use the functions in the public API at pandas.testing instead.\n",
            "  import pandas.util.testing as tm\n"
          ],
          "name": "stderr"
        }
      ]
    },
    {
      "cell_type": "code",
      "metadata": {
        "id": "unQHRMWt1rq7",
        "colab_type": "code",
        "colab": {}
      },
      "source": [
        "url = 'https://raw.githubusercontent.com/WalePhenomenon/climate_change/master/fuel_ferc1.csv'\n",
        "fuel_data = pd.read_csv(url)"
      ],
      "execution_count": 2,
      "outputs": []
    },
    {
      "cell_type": "code",
      "metadata": {
        "id": "4IV9REsz12gz",
        "colab_type": "code",
        "colab": {
          "base_uri": "https://localhost:8080/",
          "height": 224
        },
        "outputId": "e167023b-651a-434f-d401-3731c2496fa5"
      },
      "source": [
        "fuel_data.head()"
      ],
      "execution_count": 3,
      "outputs": [
        {
          "output_type": "execute_result",
          "data": {
            "text/html": [
              "<div>\n",
              "<style scoped>\n",
              "    .dataframe tbody tr th:only-of-type {\n",
              "        vertical-align: middle;\n",
              "    }\n",
              "\n",
              "    .dataframe tbody tr th {\n",
              "        vertical-align: top;\n",
              "    }\n",
              "\n",
              "    .dataframe thead th {\n",
              "        text-align: right;\n",
              "    }\n",
              "</style>\n",
              "<table border=\"1\" class=\"dataframe\">\n",
              "  <thead>\n",
              "    <tr style=\"text-align: right;\">\n",
              "      <th></th>\n",
              "      <th>record_id</th>\n",
              "      <th>utility_id_ferc1</th>\n",
              "      <th>report_year</th>\n",
              "      <th>plant_name_ferc1</th>\n",
              "      <th>fuel_type_code_pudl</th>\n",
              "      <th>fuel_unit</th>\n",
              "      <th>fuel_qty_burned</th>\n",
              "      <th>fuel_mmbtu_per_unit</th>\n",
              "      <th>fuel_cost_per_unit_burned</th>\n",
              "      <th>fuel_cost_per_unit_delivered</th>\n",
              "      <th>fuel_cost_per_mmbtu</th>\n",
              "    </tr>\n",
              "  </thead>\n",
              "  <tbody>\n",
              "    <tr>\n",
              "      <th>0</th>\n",
              "      <td>f1_fuel_1994_12_1_0_7</td>\n",
              "      <td>1</td>\n",
              "      <td>1994</td>\n",
              "      <td>rockport</td>\n",
              "      <td>coal</td>\n",
              "      <td>ton</td>\n",
              "      <td>5377489.0</td>\n",
              "      <td>16.590</td>\n",
              "      <td>18.59</td>\n",
              "      <td>18.53</td>\n",
              "      <td>1.121</td>\n",
              "    </tr>\n",
              "    <tr>\n",
              "      <th>1</th>\n",
              "      <td>f1_fuel_1994_12_1_0_10</td>\n",
              "      <td>1</td>\n",
              "      <td>1994</td>\n",
              "      <td>rockport total plant</td>\n",
              "      <td>coal</td>\n",
              "      <td>ton</td>\n",
              "      <td>10486945.0</td>\n",
              "      <td>16.592</td>\n",
              "      <td>18.58</td>\n",
              "      <td>18.53</td>\n",
              "      <td>1.120</td>\n",
              "    </tr>\n",
              "    <tr>\n",
              "      <th>2</th>\n",
              "      <td>f1_fuel_1994_12_2_0_1</td>\n",
              "      <td>2</td>\n",
              "      <td>1994</td>\n",
              "      <td>gorgas</td>\n",
              "      <td>coal</td>\n",
              "      <td>ton</td>\n",
              "      <td>2978683.0</td>\n",
              "      <td>24.130</td>\n",
              "      <td>39.72</td>\n",
              "      <td>38.12</td>\n",
              "      <td>1.650</td>\n",
              "    </tr>\n",
              "    <tr>\n",
              "      <th>3</th>\n",
              "      <td>f1_fuel_1994_12_2_0_7</td>\n",
              "      <td>2</td>\n",
              "      <td>1994</td>\n",
              "      <td>barry</td>\n",
              "      <td>coal</td>\n",
              "      <td>ton</td>\n",
              "      <td>3739484.0</td>\n",
              "      <td>23.950</td>\n",
              "      <td>47.21</td>\n",
              "      <td>45.99</td>\n",
              "      <td>1.970</td>\n",
              "    </tr>\n",
              "    <tr>\n",
              "      <th>4</th>\n",
              "      <td>f1_fuel_1994_12_2_0_10</td>\n",
              "      <td>2</td>\n",
              "      <td>1994</td>\n",
              "      <td>chickasaw</td>\n",
              "      <td>gas</td>\n",
              "      <td>mcf</td>\n",
              "      <td>40533.0</td>\n",
              "      <td>1.000</td>\n",
              "      <td>2.77</td>\n",
              "      <td>2.77</td>\n",
              "      <td>2.570</td>\n",
              "    </tr>\n",
              "  </tbody>\n",
              "</table>\n",
              "</div>"
            ],
            "text/plain": [
              "                record_id  ...  fuel_cost_per_mmbtu\n",
              "0   f1_fuel_1994_12_1_0_7  ...                1.121\n",
              "1  f1_fuel_1994_12_1_0_10  ...                1.120\n",
              "2   f1_fuel_1994_12_2_0_1  ...                1.650\n",
              "3   f1_fuel_1994_12_2_0_7  ...                1.970\n",
              "4  f1_fuel_1994_12_2_0_10  ...                2.570\n",
              "\n",
              "[5 rows x 11 columns]"
            ]
          },
          "metadata": {
            "tags": []
          },
          "execution_count": 3
        }
      ]
    },
    {
      "cell_type": "markdown",
      "metadata": {
        "id": "g6xytSFG14LZ",
        "colab_type": "text"
      },
      "source": [
        "Which year has the highest average fuel cost per unit delivered?\n",
        "\n",
        "\n",
        "\n",
        "\n",
        "\n",
        "\n"
      ]
    },
    {
      "cell_type": "code",
      "metadata": {
        "id": "g4s8pQl32i30",
        "colab_type": "code",
        "colab": {
          "base_uri": "https://localhost:8080/",
          "height": 34
        },
        "outputId": "1aa6be38-d987-41aa-e65d-95a9adc00fdf"
      },
      "source": [
        "year_max_cost= fuel_data.groupby('report_year')['fuel_cost_per_unit_delivered'].mean().idxmax()\n",
        "print(f'{year_max_cost} has the highest average fuel cost per unit delivered')"
      ],
      "execution_count": 4,
      "outputs": [
        {
          "output_type": "stream",
          "text": [
            "1997 has the highest average fuel cost per unit delivered\n"
          ],
          "name": "stdout"
        }
      ]
    },
    {
      "cell_type": "markdown",
      "metadata": {
        "id": "eSS7uqr0-HAr",
        "colab_type": "text"
      },
      "source": [
        "Percentage change"
      ]
    },
    {
      "cell_type": "code",
      "metadata": {
        "id": "RTfFnAK5SiBH",
        "colab_type": "code",
        "colab": {}
      },
      "source": [
        "coal_df = fuel_data[fuel_data['fuel_type_code_pudl'] == 'coal']"
      ],
      "execution_count": 19,
      "outputs": []
    },
    {
      "cell_type": "code",
      "metadata": {
        "id": "VfpiqnNN5Jnq",
        "colab_type": "code",
        "colab": {}
      },
      "source": [
        "coal_num = coal_df[['utility_id_ferc1',\n",
        " 'report_year',\n",
        " 'fuel_qty_burned',\n",
        " 'fuel_mmbtu_per_unit',\n",
        " 'fuel_cost_per_unit_burned',\n",
        " 'fuel_cost_per_unit_delivered',\n",
        " 'fuel_cost_per_mmbtu']] #get the numeric columns"
      ],
      "execution_count": 21,
      "outputs": []
    },
    {
      "cell_type": "code",
      "metadata": {
        "id": "x_F3LDc_PFH7",
        "colab_type": "code",
        "colab": {
          "base_uri": "https://localhost:8080/",
          "height": 476
        },
        "outputId": "44ee0512-8e9e-4f23-aea9-cf31392f6be4"
      },
      "source": [
        "coal_num.groupby('report_year')['fuel_cost_per_unit_burned'].sum().pct_change(periods=4)"
      ],
      "execution_count": 24,
      "outputs": [
        {
          "output_type": "execute_result",
          "data": {
            "text/plain": [
              "report_year\n",
              "1994         NaN\n",
              "1995         NaN\n",
              "1996         NaN\n",
              "1997         NaN\n",
              "1998   -0.205677\n",
              "1999    0.118838\n",
              "2000    6.911019\n",
              "2001   -0.654589\n",
              "2002   -0.229482\n",
              "2003    0.898621\n",
              "2004   -0.904091\n",
              "2005   -0.264864\n",
              "2006    0.352357\n",
              "2007   -0.581149\n",
              "2008    0.487879\n",
              "2009    3.101388\n",
              "2010    6.145852\n",
              "2011    0.311284\n",
              "2012    0.224316\n",
              "2013   -0.612997\n",
              "2014   -0.826102\n",
              "2015   -0.215445\n",
              "2016   -0.367328\n",
              "2017   -0.418357\n",
              "2018   -0.384371\n",
              "Name: fuel_cost_per_unit_burned, dtype: float64"
            ]
          },
          "metadata": {
            "tags": []
          },
          "execution_count": 24
        }
      ]
    },
    {
      "cell_type": "markdown",
      "metadata": {
        "id": "TuzZxsqK94lJ",
        "colab_type": "text"
      },
      "source": [
        "lowest average fuel_cost_per_unit_burned"
      ]
    },
    {
      "cell_type": "code",
      "metadata": {
        "id": "iyBtfeYN7v6C",
        "colab_type": "code",
        "colab": {}
      },
      "source": [
        "low_ave_fuel_burned = fuel_data_cleaned.groupby('fuel_type_code_pudl')['fuel_cost_per_unit_burned'].mean().idxmin()"
      ],
      "execution_count": null,
      "outputs": []
    },
    {
      "cell_type": "code",
      "metadata": {
        "id": "_NN1rwxO7vOK",
        "colab_type": "code",
        "colab": {
          "base_uri": "https://localhost:8080/",
          "height": 34
        },
        "outputId": "36feedb8-e402-4486-d54c-c2c74cd628ed"
      },
      "source": [
        "print(f'{low_ave_fuel_burned} is the lowest average fuel_cost_per_unit_burned')"
      ],
      "execution_count": null,
      "outputs": [
        {
          "output_type": "stream",
          "text": [
            "gas is the lowest average fuel_cost_per_unit_burned\n"
          ],
          "name": "stdout"
        }
      ]
    },
    {
      "cell_type": "code",
      "metadata": {
        "id": "aoZ7xpX8-3Si",
        "colab_type": "code",
        "colab": {}
      },
      "source": [
        "mmbtu_stats_index = fuel_data.describe()['fuel_mmbtu_per_unit'].index # gets the index of the summary stats"
      ],
      "execution_count": 32,
      "outputs": []
    },
    {
      "cell_type": "code",
      "metadata": {
        "id": "PgITPaGB7t57",
        "colab_type": "code",
        "colab": {}
      },
      "source": [
        "mmbtu_stats_val = fuel_data.describe()['fuel_mmbtu_per_unit'].values"
      ],
      "execution_count": 34,
      "outputs": []
    },
    {
      "cell_type": "code",
      "metadata": {
        "id": "awlHmSxm_Vpf",
        "colab_type": "code",
        "colab": {}
      },
      "source": [
        "mmbtu_stats = dict(zip(mmbtu_stats_index,mmbtu_stats_val)) # put the summary stats in dict "
      ],
      "execution_count": 40,
      "outputs": []
    },
    {
      "cell_type": "code",
      "metadata": {
        "id": "JpNOesxjABDF",
        "colab_type": "code",
        "colab": {
          "base_uri": "https://localhost:8080/",
          "height": 34
        },
        "outputId": "8f2180c4-a723-4e47-ff7e-8886402c0b87"
      },
      "source": [
        "print('The 75% and std are {} and {}'.format(mmbtu_stats['75%'],mmbtu_stats['std']) )"
      ],
      "execution_count": 45,
      "outputs": [
        {
          "output_type": "stream",
          "text": [
            "The 75% and std are 17.006 and 10.600220307806886\n"
          ],
          "name": "stdout"
        }
      ]
    },
    {
      "cell_type": "markdown",
      "metadata": {
        "id": "ja1L-7WfIodp",
        "colab_type": "text"
      },
      "source": [
        "Kurtosis and Skewness of the data"
      ]
    },
    {
      "cell_type": "code",
      "metadata": {
        "id": "twd14iQD-RMm",
        "colab_type": "code",
        "colab": {}
      },
      "source": [
        "kurt_fuel_qty_burned = fuel_data.kurtosis()['fuel_qty_burned']"
      ],
      "execution_count": null,
      "outputs": []
    },
    {
      "cell_type": "code",
      "metadata": {
        "id": "dMYwkk36_4OK",
        "colab_type": "code",
        "colab": {}
      },
      "source": [
        "skew_fuel_qty_burned = fuel_data.skew()['fuel_qty_burned']"
      ],
      "execution_count": null,
      "outputs": []
    },
    {
      "cell_type": "code",
      "metadata": {
        "id": "yGuUX40IJD_6",
        "colab_type": "code",
        "colab": {
          "base_uri": "https://localhost:8080/",
          "height": 34
        },
        "outputId": "65b4aec2-2f18-49c4-9a39-73029c636fd2"
      },
      "source": [
        "print(f'The kurtosis and skewness of the fuel_qty_burned are {round(kurt_fuel_qty_burned,2)} and {round(skew_fuel_qty_burned,2)}')"
      ],
      "execution_count": null,
      "outputs": [
        {
          "output_type": "stream",
          "text": [
            "The kurtosis and skewness of the fuel_qty_burned are 651.37 and 15.85\n"
          ],
          "name": "stdout"
        }
      ]
    },
    {
      "cell_type": "markdown",
      "metadata": {
        "id": "qYOohKB4DdrQ",
        "colab_type": "text"
      },
      "source": [
        "Correlation"
      ]
    },
    {
      "cell_type": "code",
      "metadata": {
        "id": "wEJSvJs_AGKw",
        "colab_type": "code",
        "colab": {
          "base_uri": "https://localhost:8080/",
          "height": 153
        },
        "outputId": "bbf56853-702c-441d-ee29-ed21056b60e3"
      },
      "source": [
        "fuel_data.corr().loc['fuel_cost_per_unit_burned'].sort_values(ascending=True)"
      ],
      "execution_count": 48,
      "outputs": [
        {
          "output_type": "execute_result",
          "data": {
            "text/plain": [
              "utility_id_ferc1               -0.037863\n",
              "fuel_qty_burned                -0.018535\n",
              "fuel_mmbtu_per_unit            -0.010034\n",
              "fuel_cost_per_mmbtu            -0.000437\n",
              "fuel_cost_per_unit_delivered    0.011007\n",
              "report_year                     0.013599\n",
              "fuel_cost_per_unit_burned       1.000000\n",
              "Name: fuel_cost_per_unit_burned, dtype: float64"
            ]
          },
          "metadata": {
            "tags": []
          },
          "execution_count": 48
        }
      ]
    },
    {
      "cell_type": "markdown",
      "metadata": {
        "id": "7zbE6SjDDhfC",
        "colab_type": "text"
      },
      "source": [
        "percentage missing"
      ]
    },
    {
      "cell_type": "code",
      "metadata": {
        "id": "PvQOsbqNAPoG",
        "colab_type": "code",
        "colab": {
          "base_uri": "https://localhost:8080/",
          "height": 34
        },
        "outputId": "67ddceec-e1f2-4ce2-b889-a861cc2f22c2"
      },
      "source": [
        " fract_missing =100 *(len(fuel_data[fuel_data.fuel_unit.isnull()]['fuel_unit'])/fuel_data.shape[0])\n",
        " print(fract_missing)"
      ],
      "execution_count": null,
      "outputs": [
        {
          "output_type": "stream",
          "text": [
            "0.609694136774718\n"
          ],
          "name": "stdout"
        }
      ]
    },
    {
      "cell_type": "code",
      "metadata": {
        "id": "3mzjnx37CGVD",
        "colab_type": "code",
        "colab": {}
      },
      "source": [
        ""
      ],
      "execution_count": null,
      "outputs": []
    }
  ]
}